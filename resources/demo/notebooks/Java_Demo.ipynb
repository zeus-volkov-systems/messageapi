{
 "cells": [
  {
   "cell_type": "code",
   "execution_count": 130,
   "metadata": {},
   "outputs": [],
   "source": [
    "List<String> added = %jars /workspaces/messageapi/build/libs/messageapi-core-1.0.0.jar"
   ]
  },
  {
   "cell_type": "code",
   "execution_count": 131,
   "metadata": {},
   "outputs": [],
   "source": [
    "import gov.noaa.messageapi.interfaces.ISession;"
   ]
  },
  {
   "cell_type": "code",
   "execution_count": 132,
   "metadata": {},
   "outputs": [],
   "source": [
    "import gov.noaa.messageapi.sessions.StandardSession;"
   ]
  },
  {
   "cell_type": "code",
   "execution_count": 133,
   "metadata": {},
   "outputs": [],
   "source": [
    "ISession session = new StandardSession(\"/workspaces/messageapi/resources/test/native-condition/parameters.json\");"
   ]
  },
  {
   "cell_type": "code",
   "execution_count": 134,
   "metadata": {},
   "outputs": [],
   "source": [
    "import gov.noaa.messageapi.interfaces.*;"
   ]
  },
  {
   "cell_type": "code",
   "execution_count": 135,
   "metadata": {},
   "outputs": [],
   "source": [
    "IRequest request = session.createRequest()"
   ]
  },
  {
   "cell_type": "code",
   "execution_count": 136,
   "metadata": {},
   "outputs": [],
   "source": [
    "IRecord record = request.createRecord();\n",
    "IRecord record2 = request.createRecord();"
   ]
  },
  {
   "cell_type": "code",
   "execution_count": 137,
   "metadata": {},
   "outputs": [],
   "source": [
    "record.setField(\"int-field\", 1);\n",
    "record2.setField(\"int-field\", 100);"
   ]
  },
  {
   "cell_type": "code",
   "execution_count": 138,
   "metadata": {},
   "outputs": [
    {
     "data": {
      "text/plain": [
       "1"
      ]
     },
     "execution_count": 138,
     "metadata": {},
     "output_type": "execute_result"
    }
   ],
   "source": [
    "record.getField(\"int-field\").getValue()"
   ]
  },
  {
   "cell_type": "code",
   "execution_count": 103,
   "metadata": {},
   "outputs": [],
   "source": [
    "IResponse response = request.submit()"
   ]
  },
  {
   "cell_type": "code",
   "execution_count": 104,
   "metadata": {},
   "outputs": [
    {
     "data": {
      "text/plain": [
       "true"
      ]
     },
     "execution_count": 104,
     "metadata": {},
     "output_type": "execute_result"
    }
   ],
   "source": [
    "response.isComplete()"
   ]
  },
  {
   "cell_type": "code",
   "execution_count": 105,
   "metadata": {},
   "outputs": [
    {
     "data": {
      "text/plain": [
       "3"
      ]
     },
     "execution_count": 105,
     "metadata": {},
     "output_type": "execute_result"
    }
   ],
   "source": [
    "response.getRecords().size()"
   ]
  },
  {
   "cell_type": "code",
   "execution_count": 106,
   "metadata": {},
   "outputs": [
    {
     "name": "stdout",
     "output_type": "stream",
     "text": [
      "int-field, 100\n",
      "int-field, 1\n",
      "int-field, 100\n"
     ]
    }
   ],
   "source": [
    "response.getRecords().forEach(r -> r.getFields().forEach(f->System.out.println(f.getId() + \", \" + f.getValue())))"
   ]
  },
  {
   "cell_type": "code",
   "execution_count": 107,
   "metadata": {},
   "outputs": [],
   "source": [
    "IResponse response2 = request.submit()"
   ]
  },
  {
   "cell_type": "code",
   "execution_count": 108,
   "metadata": {},
   "outputs": [
    {
     "data": {
      "text/plain": [
       "true"
      ]
     },
     "execution_count": 108,
     "metadata": {},
     "output_type": "execute_result"
    }
   ],
   "source": [
    "response2.isComplete()"
   ]
  },
  {
   "cell_type": "code",
   "execution_count": 109,
   "metadata": {},
   "outputs": [
    {
     "data": {
      "text/plain": [
       "3"
      ]
     },
     "execution_count": 109,
     "metadata": {},
     "output_type": "execute_result"
    }
   ],
   "source": [
    "response2.getRecords().size()"
   ]
  },
  {
   "cell_type": "code",
   "execution_count": 110,
   "metadata": {},
   "outputs": [
    {
     "data": {
      "text/plain": [
       "1"
      ]
     },
     "execution_count": 110,
     "metadata": {},
     "output_type": "execute_result"
    }
   ],
   "source": [
    "record.getField(\"int-field\").getValue()"
   ]
  },
  {
   "cell_type": "code",
   "execution_count": 111,
   "metadata": {},
   "outputs": [
    {
     "data": {
      "text/plain": [
       "[gov.noaa.messageapi.fields.DefaultField@44561e47]"
      ]
     },
     "execution_count": 111,
     "metadata": {},
     "output_type": "execute_result"
    }
   ],
   "source": [
    "record.getFields()"
   ]
  },
  {
   "cell_type": "code",
   "execution_count": 112,
   "metadata": {},
   "outputs": [
    {
     "name": "stdout",
     "output_type": "stream",
     "text": [
      "int-field, 1\n"
     ]
    }
   ],
   "source": [
    "record.getFields().forEach(f->System.out.println(f.getId() + \", \" + f.getValue()))"
   ]
  },
  {
   "cell_type": "code",
   "execution_count": 113,
   "metadata": {},
   "outputs": [
    {
     "data": {
      "text/plain": [
       "3"
      ]
     },
     "execution_count": 113,
     "metadata": {},
     "output_type": "execute_result"
    }
   ],
   "source": [
    "response.getRecords().size()"
   ]
  },
  {
   "cell_type": "code",
   "execution_count": 114,
   "metadata": {},
   "outputs": [
    {
     "data": {
      "text/plain": [
       "0"
      ]
     },
     "execution_count": 114,
     "metadata": {},
     "output_type": "execute_result"
    }
   ],
   "source": [
    "response.getRejections().size()"
   ]
  },
  {
   "cell_type": "code",
   "execution_count": 115,
   "metadata": {},
   "outputs": [
    {
     "data": {
      "text/plain": [
       "0"
      ]
     },
     "execution_count": 115,
     "metadata": {},
     "output_type": "execute_result"
    }
   ],
   "source": [
    "response2.getRejections().size()"
   ]
  },
  {
   "cell_type": "code",
   "execution_count": 116,
   "metadata": {},
   "outputs": [],
   "source": [
    "ISession fileReaderSession = new StandardSession(\"/workspaces/messageapi/resources/test/file-reader/parameter_map_style.json\")"
   ]
  },
  {
   "cell_type": "code",
   "execution_count": 117,
   "metadata": {},
   "outputs": [],
   "source": [
    "IRequest fileReaderRequest = fileReaderSession.createRequest();"
   ]
  },
  {
   "cell_type": "code",
   "execution_count": 118,
   "metadata": {},
   "outputs": [],
   "source": [
    "IRecord record = fileReaderRequest.createRecord();"
   ]
  },
  {
   "cell_type": "code",
   "execution_count": 119,
   "metadata": {},
   "outputs": [
    {
     "name": "stdout",
     "output_type": "stream",
     "text": [
      "file-path, null\n"
     ]
    }
   ],
   "source": [
    "record.getFields().forEach(f->System.out.println(f.getId() + \", \" + f.getValue()))"
   ]
  },
  {
   "cell_type": "code",
   "execution_count": 120,
   "metadata": {},
   "outputs": [],
   "source": [
    "record.setField(\"file-path\", \"/workspaces/messageapi/build/resources/test/inputs/file-reader/proc_sm_gtsnp_data_ftp_CF6_cf6_20190506.txt\");"
   ]
  },
  {
   "cell_type": "code",
   "execution_count": 121,
   "metadata": {},
   "outputs": [
    {
     "data": {
      "text/plain": [
       "false"
      ]
     },
     "execution_count": 121,
     "metadata": {},
     "output_type": "execute_result"
    }
   ],
   "source": [
    "IResponse fileReaderResponse = fileReaderRequest.submit();\n",
    "fileReaderResponse.isComplete();"
   ]
  },
  {
   "cell_type": "code",
   "execution_count": 122,
   "metadata": {},
   "outputs": [
    {
     "data": {
      "text/plain": [
       "true"
      ]
     },
     "execution_count": 122,
     "metadata": {},
     "output_type": "execute_result"
    }
   ],
   "source": [
    "fileReaderResponse.isComplete();"
   ]
  },
  {
   "cell_type": "code",
   "execution_count": 123,
   "metadata": {},
   "outputs": [
    {
     "data": {
      "text/plain": [
       "79794"
      ]
     },
     "execution_count": 123,
     "metadata": {},
     "output_type": "execute_result"
    }
   ],
   "source": [
    "fileReaderResponse.getRecords().size();"
   ]
  },
  {
   "cell_type": "code",
   "execution_count": 124,
   "metadata": {},
   "outputs": [
    {
     "data": {
      "text/plain": [
       "gov.noaa.messageapi.records.schema.SchemaRecord@5470b59a"
      ]
     },
     "execution_count": 124,
     "metadata": {},
     "output_type": "execute_result"
    }
   ],
   "source": [
    "fileReaderResponse.getRecords().get(100);"
   ]
  },
  {
   "cell_type": "code",
   "execution_count": 125,
   "metadata": {},
   "outputs": [
    {
     "name": "stdout",
     "output_type": "stream",
     "text": [
      "value, # LAST OF SEVERAL OCCURRENCES\n",
      "length, 29\n",
      "number, 100\n"
     ]
    }
   ],
   "source": [
    "fileReaderResponse.getRecords().get(100).getFields().forEach(f -> System.out.println(f.getId() + \", \" + f.getValue()))"
   ]
  },
  {
   "cell_type": "code",
   "execution_count": 126,
   "metadata": {},
   "outputs": [
    {
     "data": {
      "text/plain": [
       "NOTES:"
      ]
     },
     "execution_count": 126,
     "metadata": {},
     "output_type": "execute_result"
    }
   ],
   "source": [
    "fileReaderResponse.getRecords().get(99).getField(\"value\").getValue()"
   ]
  },
  {
   "cell_type": "code",
   "execution_count": 127,
   "metadata": {},
   "outputs": [],
   "source": [
    "import java.util.List;"
   ]
  },
  {
   "cell_type": "markdown",
   "metadata": {},
   "source": [
    "**FTP Lister Using a Standard Session** "
   ]
  },
  {
   "cell_type": "code",
   "execution_count": 128,
   "metadata": {},
   "outputs": [],
   "source": [
    "import gov.noaa.messageapi.sessions.StandardSession;\n",
    "import gov.noaa.messageapi.interfaces.*;"
   ]
  },
  {
   "cell_type": "code",
   "execution_count": 129,
   "metadata": {},
   "outputs": [
    {
     "name": "stdout",
     "output_type": "stream",
     "text": [
      "Return record count: 0\n"
     ]
    }
   ],
   "source": [
    "String parameterMap = \"/workspaces/messageapi/resources/test/ftp-lister/parameters_map_style.json\";\n",
    "ISession ftpListSession = new StandardSession(parameterMap);\n",
    "IRequest ftpListRequest = ftpListSession.createRequest();\n",
    "IRecord ftpListRecord = ftpListRequest.createRecord();\n",
    "ftpListRecord.setField(\"directory\", \"pub/download/hidden\");\n",
    "IResponse ftpListResponse = ftpListRequest.submit();\n",
    "while (!ftpListResponse.isComplete()) {}\n",
    "System.out.println(\"Return record count: \" + ftpListResponse.getRecords().size());\n",
    "ftpListResponse.getRecords().forEach(ftpRecord -> {\n",
    "    System.out.println(ftpRecord.getField(\"name\").getValue());\n",
    "    System.out.println(ftpRecord.getField(\"server\").getValue());\n",
    "    System.out.println(ftpRecord.getField(\"path\").getValue());\n",
    "    System.out.println(ftpRecord.getField(\"size\").getValue());\n",
    "    System.out.println(ftpRecord.getField(\"type\").getValue());\n",
    "    System.out.println(ftpRecord.getField(\"modified\").getValue());\n",
    "    });\n",
    "ftpListResponse.getRejections().forEach(ftpRejection -> {\n",
    "    System.out.println(\"Rejection!\");\n",
    "});"
   ]
  },
  {
   "cell_type": "code",
   "execution_count": null,
   "metadata": {},
   "outputs": [],
   "source": []
  },
  {
   "cell_type": "code",
   "execution_count": null,
   "metadata": {},
   "outputs": [],
   "source": []
  }
 ],
 "metadata": {
  "kernelspec": {
   "display_name": "Java",
   "language": "java",
   "name": "java"
  },
  "language_info": {
   "codemirror_mode": "java",
   "file_extension": ".jshell",
   "mimetype": "text/x-java-source",
   "name": "Java",
   "pygments_lexer": "java",
   "version": "11.0.8+10-LTS"
  }
 },
 "nbformat": 4,
 "nbformat_minor": 4
}
