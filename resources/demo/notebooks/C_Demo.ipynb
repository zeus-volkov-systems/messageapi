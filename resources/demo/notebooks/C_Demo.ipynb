{
 "cells": [
  {
   "cell_type": "markdown",
   "metadata": {},
   "source": [
    "# Ensure Basic Kernel Operation"
   ]
  },
  {
   "cell_type": "code",
   "execution_count": 52,
   "metadata": {},
   "outputs": [
    {
     "name": "stdout",
     "output_type": "stream",
     "text": [
      "Hello world\n"
     ]
    }
   ],
   "source": [
    "#include <stdio.h>\n",
    "\n",
    "int main() {\n",
    "    printf(\"Hello world\\n\");\n",
    "}"
   ]
  },
  {
   "cell_type": "markdown",
   "metadata": {},
   "source": [
    "# Very Verbose File Reader"
   ]
  },
  {
   "cell_type": "code",
   "execution_count": 53,
   "metadata": {},
   "outputs": [
    {
     "name": "stdout",
     "output_type": "stream",
     "text": [
      "Hi\n",
      "There\n",
      "User\n",
      "I\n",
      "Am\n",
      "A\n",
      "Test!\n"
     ]
    }
   ],
   "source": [
    "//%cflags:-fPIC -std=c99 -I/home/messageapi/.messageapi/c/headers -I/usr/lib/jvm/java-11-openjdk-11.0.8.10-1.el7.x86_64/include -I/usr/lib/jvm/java-11-openjdk-11.0.8.10-1.el7.x86_64/include/linux -L/workspaces/messageapi/libs/test/c/session/so -lmessageapi\n",
    "#include <jni.h>\n",
    "#include <stdio.h>\n",
    "#include \"messageapi_structs.h\"\n",
    "#include \"MessageApiSessionLib.h\"\n",
    "\n",
    "int main()\n",
    "{\n",
    "    //puts(\"In our native session demo test!\\n\");\n",
    "    //puts(\"Hello, World\\n\");\n",
    "    //fflush(stdout);\n",
    "\n",
    "    session *session = createSession(\"/workspaces/messageapi/resources/test/file-reader-native/manifest.json\");\n",
    "\n",
    "    //puts(\"Successfully created session.\");\n",
    "    //fflush(stdout);\n",
    "\n",
    "    request *request1 = createRequest(session);\n",
    "\n",
    "    //puts(\"Successfully created a request.\");\n",
    "    //fflush(stdout);\n",
    "\n",
    "    record *record1 = createRequestRecord(session, request1);\n",
    "\n",
    "    //puts(\"Successfully created a request record.\");\n",
    "    //fflush(stdout);\n",
    "\n",
    "    field *field1 = getField(session, record1, \"file-path\");\n",
    "    \n",
    "    //puts(\"Successfully retrieved the file-path field from the request record.\");\n",
    "    //fflush(stdout);\n",
    "\n",
    "    setFieldStringVal(session, field1, \"/workspaces/messageapi/resources/test/inputs/file-reader/simpletextfile\");\n",
    "\n",
    "    //puts(getFieldStringVal(session, field1));\n",
    "    //fflush(stdout);\n",
    "\n",
    "    //puts(\"Successfully set the field string value for the file-path field from the request record.\");\n",
    "    //fflush(stdout);\n",
    "\n",
    "    //record_list *session_records = createRecordList(session);\n",
    "\n",
    "    //addRecord(session, session_records, record1);\n",
    "\n",
    "    //setRequestRecords(session, request1, session_records);\n",
    "    \n",
    "    //record *record2 = createRequestRecord(session, request1);\n",
    "    //field *field2 = getField(session, record2, \"file-path\");\n",
    "    //setFieldStringVal(session, field2, \"/workspaces/messageapi/resources/test/inputs/file-reader/proc_sm_gtsnp_data_ftp_CF6_cf6_20190506.txt\");\n",
    "\n",
    "    //record_list *request_records = getRequestRecords(session, request1);\n",
    "    //printf(\"Request record count: %d\\n\", request_records->count);\n",
    "    //fflush(stdout);\n",
    "\n",
    "    response *response = submitRequest(session, request1);\n",
    "\n",
    "    //puts(\"Response completion status right after submission:\");\n",
    "    //fputs(isComplete(session, response) ? \"true\" : \"false\", stdout);\n",
    "    //puts(\"\");\n",
    "    //fflush(stdout);\n",
    "\n",
    "    //puts(\"Successfully submitted the request.\");\n",
    "    //fflush(stdout);\n",
    "\n",
    "    //puts(getFieldStringVal(session, field1));\n",
    "    //fflush(stdout);\n",
    "\n",
    "    while (!isComplete(session, response)) {}\n",
    "\n",
    "    //puts(\"Successfully returned from the request.\");\n",
    "    //fflush(stdout);\n",
    "\n",
    "    //puts(getFieldStringVal(session, field1));\n",
    "    //fflush(stdout);\n",
    "\n",
    "    record_list *response_records = getResponseRecords(session, response);\n",
    "    //rejection_list *response_rejections = getResponseRejections(session, response);\n",
    "    //printf(\"Record count: %d\\n\", response_records->count);\n",
    "    //printf(\"Rejection count: %d\\n\", response_rejections->count);\n",
    "    \n",
    "    for (int j=0; j<response_records->count; j++) {\n",
    "        record *return_record = getRecord(session, response_records, j);\n",
    "        string_list *fieldIds = getFieldIds(session, return_record);\n",
    "        for (int i=0; i<fieldIds->count; i++) {\n",
    "            field *returnField = getField(session, return_record, fieldIds->strings[i]);\n",
    "            //printf(\"FieldType: %s\\n\", getFieldType(session,returnField));\n",
    "            //if (strcmp(getFieldType(session,returnField), \"integer\") == 0) {\n",
    "             //   printf(\"Field id: %s,  Field type: %d\\n\", fieldIds->strings[i], getFieldIntVal(session,returnField));\n",
    "            //} else \n",
    "            if (strcmp(getFieldType(session,returnField), \"string\") == 0) {\n",
    "                //printf(\"Field id: %s,  Field value: %s\\n\", fieldIds->strings[i], getFieldStringVal(session,returnField));\n",
    "                printf(\"%s\\n\", getFieldStringVal(session,returnField));\n",
    "            }\n",
    "        }\n",
    "    }    \n",
    "    fflush(stdout);\n",
    "    releaseSession(session);\n",
    "    \n",
    "    \n",
    "\n",
    "}"
   ]
  },
  {
   "cell_type": "markdown",
   "metadata": {},
   "source": [
    "# File Reader, slimmed"
   ]
  },
  {
   "cell_type": "code",
   "execution_count": 54,
   "metadata": {},
   "outputs": [
    {
     "name": "stdout",
     "output_type": "stream",
     "text": [
      "Hi\n",
      "There\n",
      "User\n",
      "I\n",
      "Am\n",
      "A\n",
      "Test!\n"
     ]
    }
   ],
   "source": [
    "//%cflags:-std=c99 -I/home/messageapi/.messageapi/c/headers -I/usr/lib/jvm/java-11-openjdk-11.0.8.10-1.el7.x86_64/include -I/usr/lib/jvm/java-11-openjdk-11.0.8.10-1.el7.x86_64/include/linux -L/workspaces/messageapi/libs/test/c/session/so -lmessageapi\n",
    "#include <jni.h>\n",
    "#include <stdio.h>\n",
    "#include \"messageapi_structs.h\"\n",
    "#include \"MessageApiSessionLib.h\"\n",
    "\n",
    "int main() {\n",
    "    const char *manifest = \"/workspaces/messageapi/resources/test/file-reader-native/manifest.json\";\n",
    "    const char *textfile = \"/workspaces/messageapi/resources/test/inputs/file-reader/simpletextfile\";\n",
    "    session *session = createSession(manifest);\n",
    "    request *request = createRequest(session);\n",
    "    record *input_record = createRequestRecord(session, request);\n",
    "    setFieldStringVal(session, getField(session, input_record, \"file-path\"), textfile);\n",
    "    response *response = submitRequest(session, request);\n",
    "    while (!isComplete(session, response)) {}\n",
    "    record_list *response_records = getResponseRecords(session, response);\n",
    "    for (int j=0; j<response_records->count; j++) {\n",
    "        record *return_record = getRecord(session, response_records, j);\n",
    "        string_list *fieldIds = getFieldIds(session, return_record);\n",
    "        for (int i=0; i<fieldIds->count; i++) {\n",
    "            field *returnField = getField(session, return_record, fieldIds->strings[i]);\n",
    "            if (strcmp(getFieldType(session,returnField), \"string\") == 0) {\n",
    "                printf(\"%s\\n\", getFieldStringVal(session,returnField));\n",
    "            }\n",
    "        }\n",
    "    }\n",
    "    fflush(stdout);\n",
    "    releaseSession(session);\n",
    "}"
   ]
  },
  {
   "cell_type": "code",
   "execution_count": null,
   "metadata": {},
   "outputs": [],
   "source": []
  }
 ],
 "metadata": {
  "kernelspec": {
   "display_name": "C",
   "language": "c",
   "name": "c"
  },
  "language_info": {
   "file_extension": ".c",
   "mimetype": "text/plain",
   "name": "c"
  }
 },
 "nbformat": 4,
 "nbformat_minor": 4
}
